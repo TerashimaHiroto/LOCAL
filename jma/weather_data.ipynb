{
 "cells": [
  {
   "cell_type": "code",
   "execution_count": 1,
   "metadata": {},
   "outputs": [
    {
     "name": "stdout",
     "output_type": "stream",
     "text": [
      "Fetching weather data for area 010100...\n",
      "Error fetching data for area 010100: 404 Client Error: Not Found for url: https://www.jma.go.jp/bosai/forecast/data/forecast/010100.json\n",
      "Fetching weather data for area 010200...\n",
      "Error fetching data for area 010200: 404 Client Error: Not Found for url: https://www.jma.go.jp/bosai/forecast/data/forecast/010200.json\n",
      "Fetching weather data for area 010300...\n",
      "Error fetching data for area 010300: 404 Client Error: Not Found for url: https://www.jma.go.jp/bosai/forecast/data/forecast/010300.json\n",
      "Fetching weather data for area 010400...\n",
      "Error fetching data for area 010400: 404 Client Error: Not Found for url: https://www.jma.go.jp/bosai/forecast/data/forecast/010400.json\n",
      "Fetching weather data for area 010500...\n",
      "Error fetching data for area 010500: 404 Client Error: Not Found for url: https://www.jma.go.jp/bosai/forecast/data/forecast/010500.json\n",
      "Fetching weather data for area 010600...\n",
      "Error fetching data for area 010600: 404 Client Error: Not Found for url: https://www.jma.go.jp/bosai/forecast/data/forecast/010600.json\n",
      "Fetching weather data for area 010700...\n",
      "Error fetching data for area 010700: 404 Client Error: Not Found for url: https://www.jma.go.jp/bosai/forecast/data/forecast/010700.json\n",
      "Fetching weather data for area 010800...\n",
      "Error fetching data for area 010800: 404 Client Error: Not Found for url: https://www.jma.go.jp/bosai/forecast/data/forecast/010800.json\n",
      "Fetching weather data for area 010900...\n",
      "Error fetching data for area 010900: 404 Client Error: Not Found for url: https://www.jma.go.jp/bosai/forecast/data/forecast/010900.json\n",
      "Fetching weather data for area 011000...\n",
      "Fetching weather data for area 011100...\n",
      "Error fetching data for area 011100: 404 Client Error: Not Found for url: https://www.jma.go.jp/bosai/forecast/data/forecast/011100.json\n",
      "Weather data has been saved to weather_data.json\n"
     ]
    }
   ],
   "source": [
    "import json\n",
    "import requests\n",
    "from datetime import datetime\n",
    "import time\n",
    "\n",
    "def load_area_codes():\n",
    "    \"\"\"保存済みのarea.jsonから地域コードを読み込む\"\"\"\n",
    "    with open('areas.json', 'r', encoding='utf-8') as f:\n",
    "        areas = json.load(f)\n",
    "    return areas['centers']\n",
    "\n",
    "def fetch_weather_data(area_code):\n",
    "    \"\"\"指定された地域コードの天気情報を取得\"\"\"\n",
    "    url = f\"https://www.jma.go.jp/bosai/forecast/data/forecast/{area_code}.json\"\n",
    "    try:\n",
    "        response = requests.get(url)\n",
    "        response.raise_for_status()\n",
    "        return response.json()\n",
    "    except requests.RequestException as e:\n",
    "        print(f\"Error fetching data for area {area_code}: {e}\")\n",
    "        return None\n",
    "\n",
    "def fetch_all_weather_data():\n",
    "    \"\"\"全地域の天気情報を取得して一つの辞書にまとめる\"\"\"\n",
    "    area_codes = load_area_codes()\n",
    "    weather_data = {\n",
    "        \"last_updated\": datetime.now().isoformat(),\n",
    "        \"forecasts\": {}\n",
    "    }\n",
    "    \n",
    "    for code in area_codes:\n",
    "        print(f\"Fetching weather data for area {code}...\")\n",
    "        data = fetch_weather_data(code)\n",
    "        if data:\n",
    "            weather_data[\"forecasts\"][code] = data\n",
    "        time.sleep(1)  # APIレート制限への配慮\n",
    "    \n",
    "    return weather_data\n",
    "\n",
    "def save_weather_data(weather_data):\n",
    "    \"\"\"天気情報を1つのJSONファイルとして保存\"\"\"\n",
    "    with open('weather_data.json', 'w', encoding='utf-8') as f:\n",
    "        json.dump(weather_data, f, ensure_ascii=False, indent=2)\n",
    "\n",
    "def main():\n",
    "    # 全地域の天気情報を取得\n",
    "    weather_data = fetch_all_weather_data()\n",
    "    \n",
    "    # 一つのJSONファイルとして保存\n",
    "    save_weather_data(weather_data)\n",
    "    print(\"Weather data has been saved to weather_data.json\")\n",
    "\n",
    "if __name__ == \"__main__\":\n",
    "    main()"
   ]
  }
 ],
 "metadata": {
  "kernelspec": {
   "display_name": ".venv",
   "language": "python",
   "name": "python3"
  },
  "language_info": {
   "codemirror_mode": {
    "name": "ipython",
    "version": 3
   },
   "file_extension": ".py",
   "mimetype": "text/x-python",
   "name": "python",
   "nbconvert_exporter": "python",
   "pygments_lexer": "ipython3",
   "version": "3.12.7"
  }
 },
 "nbformat": 4,
 "nbformat_minor": 2
}
